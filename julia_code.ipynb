{
  "cells": [
    {
      "cell_type": "markdown",
      "metadata": {
        "id": "AL688L5e6ML0"
      },
      "source": [
        "こちらのサイトもご覧ください。\n",
        "\n",
        "https://zenn.dev/dannchu/articles/bd199a5c014988\n",
        "\n",
        "https://oeis.org/A378322\n"
      ]
    },
    {
      "cell_type": "code",
      "execution_count": 1,
      "metadata": {
        "colab": {
          "base_uri": "https://localhost:8080/"
        },
        "id": "oX7QHfRE5URA",
        "outputId": "f597c476-b8ee-4b14-872f-9ce08728f8b0"
      },
      "outputs": [
        {
          "name": "stderr",
          "output_type": "stream",
          "text": [
            "\u001b[32m\u001b[1m    Updating\u001b[22m\u001b[39m registry at `~/.julia/registries/General.toml`\n",
            "\u001b[32m\u001b[1m   Resolving\u001b[22m\u001b[39m package versions...\n",
            "\u001b[32m\u001b[1m  No Changes\u001b[22m\u001b[39m to `~/.julia/environments/v1.11/Project.toml`\n",
            "\u001b[32m\u001b[1m  No Changes\u001b[22m\u001b[39m to `~/.julia/environments/v1.11/Manifest.toml`\n"
          ]
        },
        {
          "data": {
            "text/plain": [
              "T (generic function with 1 method)"
            ]
          },
          "metadata": {},
          "output_type": "display_data"
        }
      ],
      "source": [
        "using Pkg\n",
        "Pkg.add(\"Combinatorics\")\n",
        "using Combinatorics\n",
        "\n",
        "function T(n)\n",
        "    X = [i for i =1:9] |> x->permutations(x,n)\n",
        "    Y = []\n",
        "    for x ∈ X\n",
        "        if sum(i//x[i] for i=1:n) == n\n",
        "            push!(Y,x)\n",
        "        end\n",
        "    end\n",
        "    Y\n",
        "end\n"
      ]
    },
    {
      "cell_type": "code",
      "execution_count": 2,
      "metadata": {
        "colab": {
          "base_uri": "https://localhost:8080/"
        },
        "id": "YEVEIfbj5kNK",
        "outputId": "9189437e-8023-4f04-e52d-677ccca940fc"
      },
      "outputs": [
        {
          "data": {
            "text/plain": [
              "1-element Vector{Any}:\n",
              " [1]"
            ]
          },
          "metadata": {},
          "output_type": "display_data"
        }
      ],
      "source": [
        "T(1)"
      ]
    },
    {
      "cell_type": "code",
      "execution_count": 3,
      "metadata": {
        "colab": {
          "base_uri": "https://localhost:8080/"
        },
        "id": "4BDYKjdv51zO",
        "outputId": "7442f790-55ee-4b4d-a408-2b83b409fbfd"
      },
      "outputs": [
        {
          "data": {
            "text/plain": [
              "1-element Vector{Any}:\n",
              " [1, 2]"
            ]
          },
          "metadata": {},
          "output_type": "display_data"
        }
      ],
      "source": [
        "T(2)"
      ]
    },
    {
      "cell_type": "code",
      "execution_count": 4,
      "metadata": {
        "colab": {
          "base_uri": "https://localhost:8080/"
        },
        "id": "1TBs_rIw52w7",
        "outputId": "8bf63d13-eb30-4664-f1b8-6801d1a860dd"
      },
      "outputs": [
        {
          "data": {
            "text/plain": [
              "3-element Vector{Any}:\n",
              " [1, 2, 3]\n",
              " [1, 4, 2]\n",
              " [2, 1, 6]"
            ]
          },
          "metadata": {},
          "output_type": "display_data"
        }
      ],
      "source": [
        "T(3)"
      ]
    },
    {
      "cell_type": "code",
      "execution_count": 5,
      "metadata": {
        "colab": {
          "base_uri": "https://localhost:8080/"
        },
        "id": "RPbryH9x54op",
        "outputId": "381a9082-9b7f-4aca-c416-b58856924e10"
      },
      "outputs": [
        {
          "data": {
            "text/plain": [
              "6-element Vector{Any}:\n",
              " [1, 2, 3, 4]\n",
              " [1, 3, 9, 2]\n",
              " [1, 4, 6, 2]\n",
              " [1, 8, 4, 2]\n",
              " [2, 1, 3, 8]\n",
              " [2, 1, 6, 4]"
            ]
          },
          "metadata": {},
          "output_type": "display_data"
        }
      ],
      "source": [
        "T(4)"
      ]
    },
    {
      "cell_type": "code",
      "execution_count": null,
      "metadata": {
        "colab": {
          "base_uri": "https://localhost:8080/"
        },
        "id": "YGUnCajX558w",
        "outputId": "f0135e68-be8a-4dea-d1c1-79f204176ede"
      },
      "outputs": [
        {
          "data": {
            "text/plain": [
              "16-element Vector{Any}:\n",
              " [1, 2, 3, 4, 5]\n",
              " [1, 2, 9, 4, 3]\n",
              " [1, 3, 2, 4, 6]\n",
              " [1, 3, 9, 2, 5]\n",
              " [1, 3, 9, 8, 2]\n",
              " [1, 4, 6, 2, 5]\n",
              " [1, 4, 6, 8, 2]\n",
              " [1, 4, 9, 6, 2]\n",
              " [1, 6, 2, 8, 3]\n",
              " [1, 8, 4, 2, 5]\n",
              " [1, 8, 6, 2, 4]\n",
              " [2, 1, 3, 8, 5]\n",
              " [2, 1, 6, 4, 5]\n",
              " [2, 1, 9, 3, 6]\n",
              " [2, 1, 9, 8, 3]\n",
              " [6, 8, 4, 3, 2]"
            ]
          },
          "execution_count": 6,
          "metadata": {},
          "output_type": "execute_result"
        }
      ],
      "source": [
        "T(5)"
      ]
    },
    {
      "cell_type": "code",
      "execution_count": 7,
      "metadata": {
        "colab": {
          "base_uri": "https://localhost:8080/"
        },
        "id": "PEyY-lLQ576B",
        "outputId": "8b7f2d15-0254-463b-c3f6-2d2d5144ee99"
      },
      "outputs": [
        {
          "data": {
            "text/plain": [
              "40-element Vector{Any}:\n",
              " [1, 2, 3, 4, 5, 6]\n",
              " [1, 2, 3, 8, 5, 4]\n",
              " [1, 2, 6, 8, 5, 3]\n",
              " [1, 2, 9, 3, 6, 4]\n",
              " [1, 2, 9, 4, 3, 6]\n",
              " [1, 2, 9, 6, 5, 3]\n",
              " [1, 2, 9, 8, 3, 4]\n",
              " [1, 3, 2, 8, 6, 4]\n",
              " [1, 3, 4, 2, 6, 8]\n",
              " [1, 3, 9, 2, 4, 8]\n",
              " ⋮\n",
              " [4, 8, 6, 2, 5, 3]\n",
              " [4, 8, 9, 3, 6, 2]\n",
              " [4, 8, 9, 6, 2, 3]\n",
              " [6, 1, 4, 3, 5, 8]\n",
              " [6, 1, 9, 8, 5, 3]\n",
              " [6, 3, 1, 8, 5, 9]\n",
              " [6, 4, 9, 2, 5, 3]\n",
              " [6, 4, 9, 8, 2, 3]\n",
              " [6, 8, 9, 2, 4, 3]"
            ]
          },
          "metadata": {},
          "output_type": "display_data"
        }
      ],
      "source": [
        "T(6)"
      ]
    },
    {
      "cell_type": "code",
      "execution_count": 11,
      "metadata": {},
      "outputs": [
        {
          "data": {
            "text/plain": [
              "20-element Vector{Any}:\n",
              " [1, 2, 3, 4, 5, 6]\n",
              " [1, 2, 3, 8, 5, 4]\n",
              " [1, 2, 6, 8, 5, 3]\n",
              " [1, 2, 9, 3, 6, 4]\n",
              " [1, 2, 9, 4, 3, 6]\n",
              " [1, 2, 9, 6, 5, 3]\n",
              " [1, 2, 9, 8, 3, 4]\n",
              " [1, 3, 2, 8, 6, 4]\n",
              " [1, 3, 4, 2, 6, 8]\n",
              " [1, 3, 9, 2, 4, 8]\n",
              " [1, 3, 9, 2, 5, 6]\n",
              " [1, 3, 9, 8, 2, 6]\n",
              " [1, 4, 2, 3, 5, 9]\n",
              " [1, 4, 2, 6, 3, 9]\n",
              " [1, 4, 3, 2, 6, 9]\n",
              " [1, 6, 3, 2, 5, 9]\n",
              " [1, 6, 3, 8, 2, 9]\n",
              " [1, 8, 2, 3, 4, 9]\n",
              " [1, 8, 4, 2, 5, 6]\n",
              " [2, 1, 3, 4, 6, 9]"
            ]
          },
          "metadata": {},
          "output_type": "display_data"
        }
      ],
      "source": [
        "T(6)[1:20]"
      ]
    },
    {
      "cell_type": "code",
      "execution_count": 12,
      "metadata": {},
      "outputs": [
        {
          "data": {
            "text/plain": [
              "20-element Vector{Any}:\n",
              " [2, 1, 3, 8, 5, 6]\n",
              " [2, 1, 6, 3, 5, 9]\n",
              " [2, 1, 6, 8, 5, 4]\n",
              " [2, 1, 9, 6, 5, 4]\n",
              " [2, 1, 9, 8, 3, 6]\n",
              " [2, 4, 1, 8, 6, 9]\n",
              " [2, 6, 1, 8, 5, 9]\n",
              " [3, 1, 2, 8, 5, 9]\n",
              " [3, 4, 1, 8, 5, 9]\n",
              " [3, 6, 9, 4, 5, 2]\n",
              " [3, 8, 4, 6, 5, 2]\n",
              " [4, 8, 6, 2, 5, 3]\n",
              " [4, 8, 9, 3, 6, 2]\n",
              " [4, 8, 9, 6, 2, 3]\n",
              " [6, 1, 4, 3, 5, 8]\n",
              " [6, 1, 9, 8, 5, 3]\n",
              " [6, 3, 1, 8, 5, 9]\n",
              " [6, 4, 9, 2, 5, 3]\n",
              " [6, 4, 9, 8, 2, 3]\n",
              " [6, 8, 9, 2, 4, 3]"
            ]
          },
          "metadata": {},
          "output_type": "display_data"
        }
      ],
      "source": [
        "T(6)[21:40]"
      ]
    },
    {
      "cell_type": "code",
      "execution_count": 13,
      "metadata": {
        "colab": {
          "base_uri": "https://localhost:8080/"
        },
        "id": "g-Kin5Co59Wm",
        "outputId": "85762562-b7bc-47dd-9284-7d47a83a48c6"
      },
      "outputs": [
        {
          "data": {
            "text/plain": [
              "54-element Vector{Any}:\n",
              " [1, 2, 3, 4, 5, 6, 7]\n",
              " [1, 2, 3, 8, 5, 4, 7]\n",
              " [1, 2, 4, 3, 5, 8, 6]\n",
              " [1, 2, 6, 8, 5, 3, 7]\n",
              " [1, 2, 6, 8, 5, 9, 3]\n",
              " [1, 2, 9, 3, 6, 4, 7]\n",
              " [1, 2, 9, 3, 6, 8, 4]\n",
              " [1, 2, 9, 4, 3, 6, 7]\n",
              " [1, 2, 9, 6, 5, 3, 7]\n",
              " [1, 2, 9, 8, 3, 4, 7]\n",
              " ⋮\n",
              " [4, 8, 9, 2, 5, 3, 6]\n",
              " [4, 8, 9, 3, 6, 2, 7]\n",
              " [4, 8, 9, 6, 2, 3, 7]\n",
              " [6, 1, 4, 3, 5, 8, 7]\n",
              " [6, 1, 9, 8, 5, 3, 7]\n",
              " [6, 3, 1, 8, 5, 9, 7]\n",
              " [6, 4, 9, 2, 5, 3, 7]\n",
              " [6, 4, 9, 8, 2, 3, 7]\n",
              " [6, 8, 9, 2, 4, 3, 7]"
            ]
          },
          "metadata": {},
          "output_type": "display_data"
        }
      ],
      "source": [
        "T(7)"
      ]
    },
    {
      "cell_type": "code",
      "execution_count": 14,
      "metadata": {},
      "outputs": [
        {
          "data": {
            "text/plain": [
              "20-element Vector{Any}:\n",
              " [1, 2, 3, 4, 5, 6, 7]\n",
              " [1, 2, 3, 8, 5, 4, 7]\n",
              " [1, 2, 4, 3, 5, 8, 6]\n",
              " [1, 2, 6, 8, 5, 3, 7]\n",
              " [1, 2, 6, 8, 5, 9, 3]\n",
              " [1, 2, 9, 3, 6, 4, 7]\n",
              " [1, 2, 9, 3, 6, 8, 4]\n",
              " [1, 2, 9, 4, 3, 6, 7]\n",
              " [1, 2, 9, 6, 5, 3, 7]\n",
              " [1, 2, 9, 8, 3, 4, 7]\n",
              " [1, 2, 9, 8, 5, 3, 6]\n",
              " [1, 3, 2, 4, 5, 9, 6]\n",
              " [1, 3, 2, 8, 6, 4, 7]\n",
              " [1, 3, 4, 2, 6, 8, 7]\n",
              " [1, 3, 9, 2, 4, 8, 7]\n",
              " [1, 3, 9, 2, 5, 6, 7]\n",
              " [1, 3, 9, 8, 2, 6, 7]\n",
              " [1, 4, 2, 3, 5, 9, 7]\n",
              " [1, 4, 2, 6, 3, 9, 7]\n",
              " [1, 4, 2, 8, 3, 9, 6]"
            ]
          },
          "metadata": {},
          "output_type": "display_data"
        }
      ],
      "source": [
        "T(7)[1:20]"
      ]
    },
    {
      "cell_type": "code",
      "execution_count": 15,
      "metadata": {},
      "outputs": [
        {
          "data": {
            "text/plain": [
              "20-element Vector{Any}:\n",
              " [1, 4, 3, 2, 6, 9, 7]\n",
              " [1, 6, 3, 2, 5, 9, 7]\n",
              " [1, 6, 3, 8, 2, 9, 7]\n",
              " [1, 6, 9, 8, 5, 4, 3]\n",
              " [1, 8, 2, 3, 4, 9, 7]\n",
              " [1, 8, 4, 2, 5, 6, 7]\n",
              " [1, 8, 9, 6, 5, 3, 4]\n",
              " [2, 1, 3, 4, 6, 9, 7]\n",
              " [2, 1, 3, 8, 5, 6, 7]\n",
              " [2, 1, 6, 3, 5, 9, 7]\n",
              " [2, 1, 6, 8, 5, 4, 7]\n",
              " [2, 1, 9, 6, 5, 4, 7]\n",
              " [2, 1, 9, 6, 5, 8, 4]\n",
              " [2, 1, 9, 8, 3, 6, 7]\n",
              " [2, 1, 9, 8, 5, 4, 6]\n",
              " [2, 4, 1, 8, 6, 9, 7]\n",
              " [2, 6, 1, 8, 5, 9, 7]\n",
              " [3, 1, 2, 8, 5, 9, 7]\n",
              " [3, 4, 1, 8, 5, 9, 7]\n",
              " [3, 4, 6, 8, 5, 9, 2]"
            ]
          },
          "metadata": {},
          "output_type": "display_data"
        }
      ],
      "source": [
        "T(7)[21:40]"
      ]
    },
    {
      "cell_type": "code",
      "execution_count": 17,
      "metadata": {},
      "outputs": [
        {
          "data": {
            "text/plain": [
              "14-element Vector{Any}:\n",
              " [3, 6, 9, 4, 5, 2, 7]\n",
              " [3, 8, 4, 6, 5, 2, 7]\n",
              " [4, 6, 9, 2, 5, 8, 3]\n",
              " [4, 8, 6, 2, 5, 3, 7]\n",
              " [4, 8, 6, 2, 5, 9, 3]\n",
              " [4, 8, 9, 2, 5, 3, 6]\n",
              " [4, 8, 9, 3, 6, 2, 7]\n",
              " [4, 8, 9, 6, 2, 3, 7]\n",
              " [6, 1, 4, 3, 5, 8, 7]\n",
              " [6, 1, 9, 8, 5, 3, 7]\n",
              " [6, 3, 1, 8, 5, 9, 7]\n",
              " [6, 4, 9, 2, 5, 3, 7]\n",
              " [6, 4, 9, 8, 2, 3, 7]\n",
              " [6, 8, 9, 2, 4, 3, 7]"
            ]
          },
          "metadata": {},
          "output_type": "display_data"
        }
      ],
      "source": [
        "T(7)[41:54]"
      ]
    },
    {
      "cell_type": "code",
      "execution_count": 9,
      "metadata": {
        "colab": {
          "base_uri": "https://localhost:8080/"
        },
        "id": "439JCUxP5-ms",
        "outputId": "4198e77e-1686-49a9-e19f-165717c30e5a"
      },
      "outputs": [
        {
          "data": {
            "text/plain": [
              "30-element Vector{Any}:\n",
              " [1, 2, 3, 4, 5, 6, 7, 8]\n",
              " [1, 2, 3, 4, 5, 9, 7, 6]\n",
              " [1, 2, 3, 8, 6, 9, 7, 4]\n",
              " [1, 2, 9, 3, 4, 8, 7, 6]\n",
              " [1, 2, 9, 3, 6, 4, 7, 8]\n",
              " [1, 2, 9, 4, 3, 6, 7, 8]\n",
              " [1, 2, 9, 6, 5, 3, 7, 8]\n",
              " [1, 3, 2, 4, 5, 9, 6, 8]\n",
              " [1, 3, 9, 2, 5, 6, 7, 8]\n",
              " [1, 4, 2, 3, 5, 9, 7, 8]\n",
              " ⋮\n",
              " [3, 1, 6, 8, 5, 9, 7, 4]\n",
              " [3, 1, 9, 8, 5, 4, 7, 6]\n",
              " [3, 4, 9, 8, 5, 2, 7, 6]\n",
              " [3, 6, 9, 4, 5, 2, 7, 8]\n",
              " [4, 1, 9, 3, 5, 8, 7, 6]\n",
              " [4, 8, 2, 6, 5, 9, 7, 3]\n",
              " [6, 2, 9, 8, 5, 3, 7, 4]\n",
              " [6, 4, 2, 8, 5, 9, 7, 3]\n",
              " [6, 4, 9, 2, 5, 3, 7, 8]"
            ]
          },
          "metadata": {},
          "output_type": "display_data"
        }
      ],
      "source": [
        "T(8)"
      ]
    },
    {
      "cell_type": "code",
      "execution_count": 18,
      "metadata": {},
      "outputs": [
        {
          "data": {
            "text/plain": [
              "20-element Vector{Any}:\n",
              " [1, 2, 3, 4, 5, 6, 7, 8]\n",
              " [1, 2, 3, 4, 5, 9, 7, 6]\n",
              " [1, 2, 3, 8, 6, 9, 7, 4]\n",
              " [1, 2, 9, 3, 4, 8, 7, 6]\n",
              " [1, 2, 9, 3, 6, 4, 7, 8]\n",
              " [1, 2, 9, 4, 3, 6, 7, 8]\n",
              " [1, 2, 9, 6, 5, 3, 7, 8]\n",
              " [1, 3, 2, 4, 5, 9, 6, 8]\n",
              " [1, 3, 9, 2, 5, 6, 7, 8]\n",
              " [1, 4, 2, 3, 5, 9, 7, 8]\n",
              " [1, 4, 2, 6, 3, 9, 7, 8]\n",
              " [1, 4, 3, 2, 6, 9, 7, 8]\n",
              " [1, 4, 9, 8, 5, 6, 7, 3]\n",
              " [1, 6, 2, 8, 5, 9, 7, 4]\n",
              " [1, 6, 3, 2, 5, 9, 7, 8]\n",
              " [1, 8, 4, 2, 5, 9, 7, 6]\n",
              " [1, 8, 4, 6, 5, 9, 7, 3]\n",
              " [2, 1, 3, 4, 6, 9, 7, 8]\n",
              " [2, 1, 3, 8, 5, 9, 7, 6]\n",
              " [2, 1, 6, 3, 5, 9, 7, 8]"
            ]
          },
          "metadata": {},
          "output_type": "display_data"
        }
      ],
      "source": [
        "T(8)[1:20]"
      ]
    },
    {
      "cell_type": "code",
      "execution_count": 19,
      "metadata": {},
      "outputs": [
        {
          "data": {
            "text/plain": [
              "10-element Vector{Any}:\n",
              " [2, 1, 9, 6, 5, 4, 7, 8]\n",
              " [3, 1, 6, 8, 5, 9, 7, 4]\n",
              " [3, 1, 9, 8, 5, 4, 7, 6]\n",
              " [3, 4, 9, 8, 5, 2, 7, 6]\n",
              " [3, 6, 9, 4, 5, 2, 7, 8]\n",
              " [4, 1, 9, 3, 5, 8, 7, 6]\n",
              " [4, 8, 2, 6, 5, 9, 7, 3]\n",
              " [6, 2, 9, 8, 5, 3, 7, 4]\n",
              " [6, 4, 2, 8, 5, 9, 7, 3]\n",
              " [6, 4, 9, 2, 5, 3, 7, 8]"
            ]
          },
          "metadata": {},
          "output_type": "display_data"
        }
      ],
      "source": [
        "T(8)[21:30]"
      ]
    },
    {
      "cell_type": "code",
      "execution_count": 20,
      "metadata": {
        "colab": {
          "base_uri": "https://localhost:8080/"
        },
        "id": "G21mvKWf6Arg",
        "outputId": "3f8231d4-809f-4bf9-d93c-8a3008d49537"
      },
      "outputs": [
        {
          "data": {
            "text/plain": [
              "1-element Vector{Any}:\n",
              " [1, 2, 3, 4, 5, 6, 7, 8, 9]"
            ]
          },
          "metadata": {},
          "output_type": "display_data"
        }
      ],
      "source": [
        "T(9)"
      ]
    },
    {
      "cell_type": "code",
      "execution_count": null,
      "metadata": {
        "id": "ARBgI2oO6C6e"
      },
      "outputs": [],
      "source": []
    }
  ],
  "metadata": {
    "colab": {
      "provenance": []
    },
    "kernelspec": {
      "display_name": "Julia 1.11.5",
      "language": "julia",
      "name": "julia-1.11"
    },
    "language_info": {
      "file_extension": ".jl",
      "mimetype": "application/julia",
      "name": "julia",
      "version": "1.11.5"
    }
  },
  "nbformat": 4,
  "nbformat_minor": 0
}
